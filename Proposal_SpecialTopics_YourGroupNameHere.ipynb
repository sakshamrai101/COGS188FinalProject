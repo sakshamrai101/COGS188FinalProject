{
 "cells": [
  {
   "attachments": {},
   "cell_type": "markdown",
   "metadata": {},
   "source": [
    "# COGS 188 - Special Topics Proposal"
   ]
  },
  {
   "attachments": {},
   "cell_type": "markdown",
   "metadata": {},
   "source": [
    "# Project Description\n",
    "\n",
    "You have the choice of doing either (1) an AI solve a problem style project or (2) run a Special Topics class on a topic of your choice.  This repo is assuming you want to do (1).  If you want to do (1) you should fill out the _other_ proposal for that. This is the proposal description for (2).\n",
    "\n",
    "You will take a topic and run class for a lecture. In this proposal we would like to know the following information.\n",
    "\n",
    "- What is the topic? How will it be covered?  Make an outline.\n",
    "  -  What (sub)elements of the topic will you be covering?  \n",
    "  -  Highlight key points/takeaways for each (sub)element you want to cover\n",
    "- What is your pedagocial approach?\n",
    "   -  What readings will students be assigned?\n",
    "   -  Will slides/lecture be used?  \n",
    "      -  Covering which of the elements in the outline? \n",
    "      -  Delivered by whom?\n",
    "   -  What active learning methods be used?\n",
    "      -  Discussions? \n",
    "         -  On which elements? \n",
    "         -  For how long maximum? \n",
    "         -  What framework will you use to kick off discussion? \n",
    "      -  In-class exercises? \n",
    "         -  On which elements? \n",
    "         -  For how long maximum? \n",
    "         -  Describe the exercise briefly\n",
    "\n",
    "  \n",
    "\n",
    "It is possible to make a proposal without knowing all of these things in fine detail, but the closer you are to having an actual set of class materials the better.\n",
    "\n",
    "__!!!__ I will ask to review your class materials no later than 48 hours before you run class.  I may have feedback for you to make modifications no later than 24 hours in advance. You will be turning in those class materials to me as you final project __!!!__\n",
    "\n",
    "\n",
    "Here is an incomplete list of topics\n",
    "- Any chapter or section in Russel+Norvig that we didn't cover.  I'd especially call out:\n",
    "  - AI Philosophy\n",
    "  - Logic and/or planning\n",
    "  - Knowledge representation / Expert systems\n",
    "  - Robotics specific things like SLAM/Kalman filters\n",
    "  - Natural Language Processing\n",
    "  - Genetic Algorithms\n",
    "  - Causal learning in AI\n",
    "  - AI History\n",
    "  - AI Ethics\n",
    "- Any chapter or section in Sutton+Barto that we didn't cover.  I'd especially call out:\n",
    "  - Tabular methods\n",
    "  - Approximate solutions\n",
    "  - History\n",
    "  - Applications with Psychology/Neuroscience \n",
    "  - Technical applications\n",
    "- Any relevant and recent scientific advances, e.g.\n",
    "  - what are some really cool problems/benchmarks that other project groups might want to tackle?\n",
    "  - detailed discussion of AlphaGo\n",
    "  - how tf does RLHF work?\n",
    "  - deep Q networks / Atari 2600 benchmark\n",
    "  - Explainable AI\n",
    "  - Anything really! Scour blogs and see whats popular at NeurIPS\n",
    "\n",
    "Feel free to delete this description section when you hand in your proposal."
   ]
  },
  {
   "cell_type": "markdown",
   "metadata": {},
   "source": [
    "# Names\n",
    "\n",
    "- Rodrigo Lizaran-Molina\n",
    "- Allen Phu\n",
    "- Saksham Rai\n",
    "- Pratham"
   ]
  },
  {
   "attachments": {},
   "cell_type": "markdown",
   "metadata": {},
   "source": [
    "# Topic and outline\n",
    "\n",
    "### Main topic\n",
    "Deepfake technology creates convincing fake content, challenging traditional detection methods. Innovative approaches, powered by advanced machine learning, aim to spot subtle inconsistencies. These efforts are vital to counter the threats posed by deepfakes to individuals and society.\n",
    "\n",
    "### Learning goal for students \n",
    "To comprehend the mechanisms behind AI algorithms used in deepfake creation and detection, critically analyze the ethical implications of their application, and develop strategies to responsibly navigate the ethical challenges posed by deepfake technology.\n",
    "\n",
    "\n",
    "### Outline of the topic\n",
    "  - Element 1\n",
    "    - __BOLD FACE KEYPOINT__ something you really want students to know\n",
    "    - Another less important element\n",
    "    - Something else\n",
    "  - Element 2\n",
    "    - __KEYPOINT 2a__ something blah\n",
    "    - 2b\n",
    "    - \n",
    "  - etc "
   ]
  },
  {
   "attachments": {},
   "cell_type": "markdown",
   "metadata": {},
   "source": [
    "# Pedagogy\n",
    "\n",
    "\n",
    "### Readings\n",
    "\n",
    "1. \"Deepfakes: Techniques, Challenges and Solutions\" by A. Rossi et al.\n",
    "\n",
    "This paper provides a comprehensive overview of the techniques used in creating deepfakes, highlighting the evolution of generative adversarial networks (GANs) and their application in synthesizing realistic videos and images. The reading will equip students with a technical understanding of how deepfakes are constructed.\n",
    "The ethical dilemmas posed by deepfakes, such as misinformation and privacy invasion, are discussed. This will set the stage for ethical considerations in the lecture.\n",
    "2. \"Facing Reality: The Ethical Challenges of Deepfakes\" by C. Fletcher\n",
    "\n",
    "This article delves into the societal and ethical impacts of deepfakes, offering a philosophical perspective on the responsibilities of AI developers and users. It encourages students to think critically about the broader implications of emerging technologies.\n",
    "The reading also explores current and proposed legal frameworks aimed at regulating deepfakes, providing a basis for the discussion on policy and ethical guidelines.\n",
    "\n",
    "### Lecture description\n",
    "\n",
    "\n",
    "#### Slide 1: Introduction to Deepfakes\n",
    "\n",
    "Overview of what deepfakes are and their significance in today's digital landscape.\n",
    "Introduction to the learning goals of the lecture.\n",
    "\n",
    "#### Slide 2-4: Technical Foundations\n",
    "\n",
    "Explanation of the AI algorithms involved in creating deepfakes, focusing on GANs and their operation.\n",
    "Demonstrative visuals showing the step-by-step process of generating a deepfake.\n",
    "\n",
    "#### Slide 5-6: Ethical and Societal Challenges\n",
    "\n",
    "Discussion of key ethical issues, including misinformation, privacy, and the potential for misuse.\n",
    "Real-world examples of deepfake misuse and the consequences on individuals and society.\n",
    "#### Slide 7-8: Detection Techniques\n",
    "\n",
    "Overview of current methods and technologies used to detect deepfakes.\n",
    "Discussion on the challenges of keeping detection methods up to date with evolving deepfake technology.\n",
    "\n",
    "#### Slide 9: Strategies for Responsible Use\n",
    "\n",
    "Discussion on best practices for AI developers to mitigate the risks associated with deepfakes.\n",
    "Suggestions for policy measures and community guidelines to manage the creation and dissemination of deepfakes.\n",
    "\n",
    "#### Slide 10: Conclusion and Q&A\n",
    "\n",
    "Recap of the main points covered in the lecture.\n",
    "Open floor for student questions and discussion to clarify doubts and deepen understanding.\n",
    "\n",
    "### Active learning\n",
    "Include information about any discussions or exercises you will have students do.  Each active learning exercise needs 1 to 3 short paragraphs.  It should include \n",
    "- the element of the outline this will cover\n",
    "- brief description of framework you will provide to set off the discussion OR a description of the in class exercise\n",
    "- for how long maximum will this run? \n",
    "\n",
    "    "
   ]
  },
  {
   "attachments": {},
   "cell_type": "markdown",
   "metadata": {},
   "source": [
    "# Dates\n",
    "- May 31\n",
    "- May 29\n",
    "- Jun 03\n",
    "- Jun 05"
   ]
  },
  {
   "cell_type": "markdown",
   "metadata": {},
   "source": [
    "# Team Expectations "
   ]
  },
  {
   "cell_type": "markdown",
   "metadata": {},
   "source": [
    "As a team, we are committed to maintaining a high level of collaboration, professionalism, and respect among all members. Our shared expectations for one another are as follows:\n",
    "\n",
    "* **Active and Respectful Communication**: We value open and active communication. Team members should feel comfortable expressing their thoughts, ideas, and concerns. We will listen actively and respectfully to each other.\n",
    "\n",
    "* **Idea Exchange**: Everyone is welcome to contribute their thoughts and suggestions. We will consider each other's ideas with respect and appreciation.\n",
    "\n",
    "* **Continuous Collaboration**: If any team member has ideas or encounters challenges, please share them directly through our Discord communication channel as soon as possible. We believe that open and timely communication is essential to address issues promptly and efficiently.\n",
    "\n",
    "* **Timely Task Completion**: We understand the importance of meeting deadlines. Team members are expected to complete their assigned sections on time. If you foresee challenges in meeting a deadline, please communicate this at least two days in advance so that we can collectively find solutions.\n",
    "\n",
    "* **Equal Work Distribution**: The workload will be distributed equitably. All team members are expected to contribute to the Special Topic, ensuring that no one bears an undue burden.\n",
    "\n",
    "Rodrigo Lizaran-Molina: Topic and Outline\n",
    "\n",
    "Allen Phu: Topic and Outline\n",
    "\n",
    "Saksham Rai: Pedagogy\n",
    "\n",
    "Pathram: Pedagogy"
   ]
  },
  {
   "cell_type": "markdown",
   "metadata": {},
   "source": [
    "# Project Timeline Proposal"
   ]
  },
  {
   "cell_type": "markdown",
   "metadata": {},
   "source": [
    "| Meeting Date  | Meeting Time| Completed Before Meeting  | Discuss at Meeting |\n",
    "|---|---|---|---|\n",
    "| 4/20  |  4 PM |  Brainstorm topics/questions (all)  | Determine best form of communication; Discuss and decide on final Special Topic; discuss Topic and Readings; begin background research | \n",
    "| 4/26  |  4 PM |  Do background research on topic (all) | Discuss ideal ethics; draft Special Topic Proposal | \n",
    "| 5/12  | 4 PM  | Edit, finalize, and submit proposal  | Discuss Ethics, possible coding approaches and readings; Assign group members to lead each specific part   |\n",
    "| 5/20  | 4 PM  | Finalize Power Point and discussion activities | Discuss/edit Special topic set up; Complete Special Topic Session |\n",
    "| 5/31  | TBD | NA | Present Special Topic during class time assigned  |"
   ]
  }
 ],
 "metadata": {
  "kernelspec": {
   "display_name": "Python 3",
   "language": "python",
   "name": "python3"
  },
  "language_info": {
   "codemirror_mode": {
    "name": "ipython",
    "version": 3
   },
   "file_extension": ".py",
   "mimetype": "text/x-python",
   "name": "python",
   "nbconvert_exporter": "python",
   "pygments_lexer": "ipython3",
   "version": "3.7.11 (default, Jul 27 2021, 07:03:16) \n[Clang 10.0.0 ]"
  },
  "vscode": {
   "interpreter": {
    "hash": "40d3a090f54c6569ab1632332b64b2c03c39dcf918b08424e98f38b5ae0af88f"
   }
  }
 },
 "nbformat": 4,
 "nbformat_minor": 2
}
